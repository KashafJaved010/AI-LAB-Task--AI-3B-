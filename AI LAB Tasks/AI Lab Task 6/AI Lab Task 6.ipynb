{
 "cells": [
  {
   "cell_type": "markdown",
   "id": "ce4a1b07",
   "metadata": {},
   "source": [
    "1. BFS without Queue & without Node"
   ]
  },
  {
   "cell_type": "code",
   "execution_count": 13,
   "id": "6998a807",
   "metadata": {},
   "outputs": [
    {
     "name": "stdout",
     "output_type": "stream",
     "text": [
      "BFS without Queue and Node:\n",
      "A B C D E F G X "
     ]
    }
   ],
   "source": [
    "def bfs_without_queue(graph, starting_point):\n",
    " explore_point = []   \n",
    " current_level = [starting_point]   \n",
    " while len(current_level) > 0:   \n",
    "        \n",
    "  new_level = []   \n",
    "  for i in current_level:\n",
    "   if i not in explore_point:\n",
    "    print(i, end=\" \") \n",
    "    explore_point.append(i)\n",
    "    neighbors = graph.get(i, [])\n",
    "    for n in neighbors:\n",
    "     if n not in explore_point:\n",
    "      new_level.append(n)\n",
    "  current_level = new_level\n",
    "\n",
    "graph_pattern = {\n",
    "    'A': ['B', 'C'],\n",
    "    'B': ['D', 'E'],\n",
    "    'C': ['F', 'G'],\n",
    "    'D': [],  \n",
    "    'E': ['F'],   \n",
    "    'F': [],\n",
    "    'G': ['X'],  \n",
    "    'X': []\n",
    "}\n",
    "\n",
    "print(\"BFS without Queue and Node:\")\n",
    "bfs_without_queue(graph_pattern, 'A')\n"
   ]
  },
  {
   "cell_type": "markdown",
   "id": "3043fe81",
   "metadata": {},
   "source": [
    "2. BFS with Queue "
   ]
  },
  {
   "cell_type": "code",
   "execution_count": 8,
   "id": "0f289820",
   "metadata": {},
   "outputs": [
    {
     "name": "stdout",
     "output_type": "stream",
     "text": [
      "BFS using Queue:\n",
      "A B C D E F G X "
     ]
    },
    {
     "data": {
      "text/plain": [
       "['A', 'B', 'C', 'D', 'E', 'F', 'G', 'X']"
      ]
     },
     "execution_count": 8,
     "metadata": {},
     "output_type": "execute_result"
    }
   ],
   "source": [
    "def bfs_with_queue(graph, starting_point):\n",
    " explore_point = []         \n",
    " queue = [starting_point]  \n",
    " while queue:              \n",
    "  point = queue.pop(0)   \n",
    "  if point not in explore_point:\n",
    "   print(point, end=\" \")     \n",
    "   explore_point.append(point)\n",
    "   for i in graph[point]:\n",
    "    if i not in explore_point and i not in queue:\n",
    "     queue.append(i)   \n",
    "\n",
    " return explore_point\n",
    "\n",
    "\n",
    "graph = { \n",
    " \t\t\t'A': ['B', 'C'],\n",
    "    'B': ['D', 'E'],\n",
    "    'C': ['F', 'G'],\n",
    "    'D': [],  \n",
    "    'E': ['F'],   \n",
    "    'F': [],\n",
    "    'G': ['X'],\n",
    "    'X': []\n",
    "    \n",
    "    \n",
    "} \n",
    "\n",
    "print(\"BFS using Queue:\") \n",
    "bfs_with_queue(graph, 'A')\n"
   ]
  },
  {
   "cell_type": "markdown",
   "id": "17c98322",
   "metadata": {},
   "source": [
    "2. BFS with Queue & Node  "
   ]
  },
  {
   "cell_type": "code",
   "execution_count": 1,
   "id": "32956313",
   "metadata": {},
   "outputs": [
    {
     "name": "stdout",
     "output_type": "stream",
     "text": [
      "Tree Structure:\n",
      "        A\n",
      "       / \\\n",
      "      B   C\n",
      "     / \\    \\\n",
      "    D   E    F\n",
      "            / \\\n",
      "           V   X\n",
      "\n",
      "BFS traversal using queue inside Node class:\n",
      "A B C D E F V X "
     ]
    }
   ],
   "source": [
    "class Node:\n",
    " queue = []   \n",
    "\n",
    " def __init__(self, element):\n",
    "  self.element = element\n",
    "  self.left = None\n",
    "  self.right = None\n",
    "\n",
    " @classmethod\n",
    " def enqueue(cls, point):\n",
    "  cls.queue.append(point)   \n",
    "    \n",
    " @classmethod\n",
    " def dequeue(cls):\n",
    "  if not cls.is_empty():\n",
    "   return cls.queue.pop(0)\n",
    "\n",
    " @classmethod\n",
    " def is_empty(cls):\n",
    "  return len(cls.queue) == 0 \n",
    "\n",
    "\n",
    "def bfs_with_queue(starting_point):\n",
    " if starting_point is None:\n",
    "  return\n",
    " Node.enqueue(starting_point) \n",
    " while not Node.is_empty():\n",
    "  current_point = Node.dequeue()\n",
    "  print(current_point.element, end=\" \")         \n",
    "        \n",
    "  if current_point.left: \n",
    "   Node.enqueue(current_point.left)\n",
    "  if current_point.right:  \n",
    "   Node.enqueue(current_point.right)    \n",
    " Node.queue = []   \n",
    "\n",
    "\n",
    "def tree_diagram():\n",
    " print(\"        A\")\n",
    " print(\"       / \\\\\")\n",
    " print(\"      B   C\")\n",
    " print(\"     / \\\\    \\\\\")\n",
    " print(\"    D   E    F\")\n",
    " print(\"            / \\\\\")\n",
    " print(\"           V   X\")\n",
    "\n",
    "\n",
    "explored = Node('A')\n",
    "explored.left = Node('B')\n",
    "explored.right = Node('C')\n",
    "explored.left.left = Node('D')\n",
    "explored.left.right = Node('E')\n",
    "explored.right.right = Node('F')\n",
    "explored.right.right.left = Node(\"V\")\n",
    "explored.right.right.right = Node(\"X\")\n",
    "\n",
    "print(\"Tree Structure:\")\n",
    "tree_diagram()\n",
    "print(\"\\nBFS traversal using queue inside Node class:\")\n",
    "bfs_with_queue(explored)"
   ]
  }
 ],
 "metadata": {
  "kernelspec": {
   "display_name": "base",
   "language": "python",
   "name": "python3"
  },
  "language_info": {
   "codemirror_mode": {
    "name": "ipython",
    "version": 3
   },
   "file_extension": ".py",
   "mimetype": "text/x-python",
   "name": "python",
   "nbconvert_exporter": "python",
   "pygments_lexer": "ipython3",
   "version": "3.12.7"
  }
 },
 "nbformat": 4,
 "nbformat_minor": 5
}
