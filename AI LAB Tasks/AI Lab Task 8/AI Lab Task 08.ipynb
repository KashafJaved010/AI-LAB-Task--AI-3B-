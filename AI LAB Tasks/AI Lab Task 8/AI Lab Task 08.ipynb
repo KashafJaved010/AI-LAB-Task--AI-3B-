{
 "cells": [
  {
   "cell_type": "markdown",
   "id": "616f78f6",
   "metadata": {},
   "source": [
    "1. Write code for Min Max Algorithm "
   ]
  },
  {
   "cell_type": "markdown",
   "id": "e7bbd934",
   "metadata": {},
   "source": [
    "For MAX Turn"
   ]
  },
  {
   "cell_type": "code",
   "execution_count": 1,
   "id": "17058580",
   "metadata": {},
   "outputs": [
    {
     "name": "stdout",
     "output_type": "stream",
     "text": [
      "The optimal value is: 6\n"
     ]
    }
   ],
   "source": [
    "import math\n",
    "\n",
    "def minimax(curDepth, nodeIndex, maxTurn, scores, targetDepth):\n",
    " if curDepth == targetDepth:\n",
    "        return scores[nodeIndex]\n",
    " if maxTurn:\n",
    "  return max(\n",
    "    minimax(curDepth + 1, nodeIndex * 2, False, scores, targetDepth),\n",
    "    minimax(curDepth + 1, nodeIndex * 2 + 1, False, scores, targetDepth)\n",
    "   )\n",
    " else:\n",
    "  return min(\n",
    "   minimax(curDepth + 1, nodeIndex * 2, True, scores, targetDepth),\n",
    "   minimax(curDepth + 1, nodeIndex * 2 + 1, True, scores, targetDepth)\n",
    "   )\n",
    "\n",
    "scores = [4, 6, 7, 10, 4, 6, 7, 10]\n",
    "treeDepth = int(math.log(len(scores), 2))\n",
    "print(\"The optimal value is: \", end=\"\")\n",
    "print(minimax(0, 0, True, scores, treeDepth))\n"
   ]
  },
  {
   "cell_type": "markdown",
   "id": "ddf4bbea",
   "metadata": {},
   "source": [
    "### Diagram Structure\n",
    "\n",
    "                        MAX\n",
    "                      /      \\\n",
    "                 MIN             MIN\n",
    "               /     \\         /     \\\n",
    "            MAX       MAX    MAX      MAX\n",
    "           /  \\      /  \\    /  \\    /  \\\n",
    "          4    6    7   10  4   6   7   10\n"
   ]
  },
  {
   "cell_type": "markdown",
   "id": "4c520017",
   "metadata": {},
   "source": [
    "For Min Turn"
   ]
  },
  {
   "cell_type": "code",
   "execution_count": 24,
   "id": "dc12e7c7",
   "metadata": {},
   "outputs": [
    {
     "name": "stdout",
     "output_type": "stream",
     "text": [
      "Optimal Score (MIN Starts): 7\n"
     ]
    }
   ],
   "source": [
    "import math\n",
    "def minimax(depth, index, isMaxPlayer, values, maxDepth):\n",
    " if depth == maxDepth:\n",
    "  return values[index]\n",
    " if isMaxPlayer:\n",
    "  return max(\n",
    "   minimax(depth + 1, index * 2, False, values, maxDepth),\n",
    "   minimax(depth + 1, index * 2 + 1, False, values, maxDepth)\n",
    "   )\n",
    " else:\n",
    "  return min(\n",
    "   minimax(depth + 1, index * 2, True, values, maxDepth),\n",
    "   minimax(depth + 1, index * 2 + 1, True, values, maxDepth)\n",
    "   )\n",
    "\n",
    "values = [4, 6, 7, 10, 4, 6, 7, 10]\n",
    "maxDepth = int(math.log(len(values), 2))\n",
    "print(\"Optimal Score (MIN Starts):\", minimax(0, 0, False, values, maxDepth))\n"
   ]
  },
  {
   "cell_type": "markdown",
   "id": "3e114e9e",
   "metadata": {},
   "source": [
    "### Diagram Structure\n",
    "\n",
    "                        MIN\n",
    "                      /      \\\n",
    "                 MAX             MAX\n",
    "               /     \\         /     \\\n",
    "            MIN       MIN    MIN      MIN\n",
    "           /  \\      /  \\    /  \\    /  \\\n",
    "          4    6    7   10  4   6   7   10\n"
   ]
  }
 ],
 "metadata": {
  "kernelspec": {
   "display_name": "base",
   "language": "python",
   "name": "python3"
  },
  "language_info": {
   "codemirror_mode": {
    "name": "ipython",
    "version": 3
   },
   "file_extension": ".py",
   "mimetype": "text/x-python",
   "name": "python",
   "nbconvert_exporter": "python",
   "pygments_lexer": "ipython3",
   "version": "3.12.7"
  }
 },
 "nbformat": 4,
 "nbformat_minor": 5
}
