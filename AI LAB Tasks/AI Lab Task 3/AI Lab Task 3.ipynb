{
 "cells": [
  {
   "cell_type": "markdown",
   "id": "d8c73b34",
   "metadata": {},
   "source": [
    "# Model Based Reflex Agent"
   ]
  },
  {
   "cell_type": "code",
   "execution_count": null,
   "id": "1bd9ca8e",
   "metadata": {},
   "outputs": [
    {
     "name": "stdout",
     "output_type": "stream",
     "text": [
      "Living Room :\t26 Action: From memory there is no change keep Heater is OFF\n",
      "Drawing Room :\t22 Action: From memory there is no change keep Heater is OFF\n",
      "Kitchen :\t14 Action: Heater is ON\n",
      "Bedroom :\t14 Action: From memory there is no change keep Heater is ON\n",
      "Library room :\t28 Action: Heater is OFF\n"
     ]
    }
   ],
   "source": [
    "class MBReflexAgent: # MB mean model base\n",
    " def __init__(self, temp, memory_store=\"past_memory.txt\"):\n",
    "  self.set_temp = temp\n",
    "  self.memory_store = memory_store\n",
    "  open(self.memory_store, \"a\").close()\n",
    "\n",
    " def sensor(self, room, temp):\n",
    "   self.room = room\n",
    "   self.temp = temp\n",
    "\n",
    " def save_pre_action(self): # pre mean privious  mean save privious action\n",
    "  try:\n",
    "   with open(self.memory_store, \"r\") as f:\n",
    "    lines = f.readlines()\n",
    "    if not lines:\n",
    "      return None\n",
    "    last_line = lines[-1].strip().split(\",\")\n",
    "    return last_line[-1].strip()   \n",
    "  except FileNotFoundError:\n",
    "    return None\n",
    "\n",
    " def changing_memory(self, action): \n",
    "  with open(self.memory_store, \"a\") as f:\n",
    "    f.write(f\"{self.room}, {self.temp}, {self.set_temp}, {action}\\n\")\n",
    "\n",
    " def performance(self):\n",
    "  if self.temp < self.set_temp:\n",
    "   action = \"Heater is ON\"\n",
    "  else:\n",
    "    action = \"Heater is OFF\"\n",
    "\n",
    "  pre_act = self.save_pre_action() #pre_act mean privious _action\n",
    "\n",
    "  if action == pre_act:\n",
    "    return \"From memory there is no change keep \" + action + \"\"\n",
    "  else:\n",
    "   self.changing_memory(action)   \n",
    "   return action\n",
    "\n",
    " def actuator(self):\n",
    "  action = self.performance()\n",
    "  print( self.temp, \"Action:\", action)\n",
    "\n",
    "\n",
    "rooms = {\n",
    "    \"Living Room\": 26,\n",
    "    \"Drawing Room\": 22,\n",
    "    \"Kitchen\": 14,\n",
    "    \"Bedroom\": 14,\n",
    "    \"Library room\": 28,\n",
    "}\n",
    "\n",
    "A = MBReflexAgent(16)\n",
    "\n",
    "for room, temp in rooms.items():\n",
    "    print(room, end=' :\\t')\n",
    "    A.sensor(room, temp)\n",
    "    A.actuator()"
   ]
  }
 ],
 "metadata": {
  "kernelspec": {
   "display_name": "base",
   "language": "python",
   "name": "python3"
  },
  "language_info": {
   "codemirror_mode": {
    "name": "ipython",
    "version": 3
   },
   "file_extension": ".py",
   "mimetype": "text/x-python",
   "name": "python",
   "nbconvert_exporter": "python",
   "pygments_lexer": "ipython3",
   "version": "3.12.7"
  }
 },
 "nbformat": 4,
 "nbformat_minor": 5
}
