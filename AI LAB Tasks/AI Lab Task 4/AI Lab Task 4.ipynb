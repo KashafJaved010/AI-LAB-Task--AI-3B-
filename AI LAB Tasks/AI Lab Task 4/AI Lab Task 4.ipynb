{
 "cells": [
  {
   "cell_type": "markdown",
   "id": "65bc024d",
   "metadata": {},
   "source": [
    "1. Code for LUHN Algorithm"
   ]
  },
  {
   "cell_type": "code",
   "execution_count": 8,
   "id": "e1efc2a2",
   "metadata": {},
   "outputs": [
    {
     "name": "stdout",
     "output_type": "stream",
     "text": [
      "5893804115457289 is VALID\n",
      "8574987394732993 is INVALID\n"
     ]
    }
   ],
   "source": [
    "def luhn_check(card_num):\n",
    " num_list = [int(ch) for ch in str(card_num)]  \n",
    " check_num = num_list.pop()     \n",
    " num_list.reverse()\n",
    " \n",
    " for idx in range(len(num_list)):\n",
    "  if idx % 2 == 0:  \n",
    "   doubled_num = num_list[idx] * 2\n",
    "   if doubled_num > 9:\n",
    "     doubled_num -= 9\n",
    "   num_list[idx] = doubled_num\n",
    " total_sum = sum(num_list) + check_num\n",
    " return (total_sum % 10) == 0\n",
    "\n",
    "card1 = \"5893804115457289\"  \n",
    "if luhn_check(card1):\n",
    " print(f\"{card1} is VALID\")\n",
    "else:\n",
    " print(f\"{card1} is INVALID\")\n",
    "\n",
    "card2 = \"8574987394732993\"\n",
    "if luhn_check(card2):\n",
    " print(f\"{card2} is VALID\")\n",
    "else:\n",
    " print(f\"{card2} is INVALID\")\n"
   ]
  },
  {
   "cell_type": "markdown",
   "id": "919fe1bc",
   "metadata": {},
   "source": [
    "2. Write a python program to remove punctuations from the given string?  "
   ]
  },
  {
   "cell_type": "code",
   "execution_count": 25,
   "id": "db65954b",
   "metadata": {},
   "outputs": [
    {
     "name": "stdout",
     "output_type": "stream",
     "text": [
      "Sentence with punctuation: Hello!Python use.... interpreter| for code excution!!!\n",
      "Sentence without punctuation: HelloPython use interpreter for code excution\n"
     ]
    }
   ],
   "source": [
    "punctuation_symbol  = ('''!()-[]{};:'\"|,<>.\\\\/?@#$%^&*_~''')\n",
    "string = (\"Hello!Python use.... interpreter| for code excution!!!\")\n",
    "clear_string = \"\"\n",
    "for letter  in string:\n",
    " if letter not in punctuation_symbol:\n",
    "  clear_string += letter\n",
    "print(\"Sentence with punctuation:\", string)\n",
    "print(\"Sentence without punctuation:\", clear_string)\n"
   ]
  },
  {
   "cell_type": "code",
   "execution_count": 27,
   "id": "4790bb04",
   "metadata": {},
   "outputs": [
    {
     "name": "stdout",
     "output_type": "stream",
     "text": [
      "Sentence with punctuation: Hello!!! This is Python.....Program||\n",
      "Sentence without punctuation: Hello This is PythonProgram\n"
     ]
    }
   ],
   "source": [
    "punctuation_symbol  = ('''!()-[]{};:'\",<>.|\\\\/?@#$%^&*_~''')\n",
    "# string = (\"Hello! Python use....interprator|for code excution!!!\")\n",
    "string = input(\"Type a sentence: \")\n",
    "clear_string = \"\"\n",
    "for letter in string:\n",
    " if letter not in punctuation_symbol:\n",
    "   clear_string += letter\n",
    "print(\"Sentence with punctuation:\", string)\n",
    "print(\"Sentence without punctuation:\", clear_string)\n"
   ]
  },
  {
   "cell_type": "markdown",
   "id": "fa76d1ce",
   "metadata": {},
   "source": [
    "3. Write a python program to sort the sentence in alphabetical order? "
   ]
  },
  {
   "cell_type": "code",
   "execution_count": 33,
   "id": "b21c6eae",
   "metadata": {},
   "outputs": [
    {
     "name": "stdout",
     "output_type": "stream",
     "text": [
      "Sentence is: Hello!! This is  Python Language\n",
      "\n",
      "Sentence sorted alphabetically: Hello!! is Language Python This\n",
      "Sentnce sorted by letters: !!aaeegghHhiiLllnnooPssTtuy\n"
     ]
    }
   ],
   "source": [
    "sentence = input(\"Enter a sentence: \")\n",
    "print(\"Sentence is:\", sentence)\n",
    "\n",
    "alpha = sentence.split()   \n",
    "for i in range(len(alpha)):\n",
    " for j in range(i + 1, len(alpha)):\n",
    "   if alpha[i].lower() > alpha[j].lower():\n",
    "     alpha[i], alpha[j] = alpha[j], alpha[i]\n",
    "sorted_alphabets = \" \".join(alpha)\n",
    "\n",
    "letters = list(sentence.replace(\" \", \"\"))   \n",
    "for x in range(len(letters)):\n",
    " for y in range(x + 1, len(letters)):\n",
    "  if letters[x].lower() > letters[y].lower():\n",
    "   letters[x], letters[y] = letters[y], letters[x]\n",
    "sorted_letters = \"\".join(letters)\n",
    "\n",
    "print(\"\\nSentence sorted alphabetically:\", sorted_alphabets)\n",
    "print(\"Sentnce sorted by letters:\", sorted_letters)\n"
   ]
  }
 ],
 "metadata": {
  "kernelspec": {
   "display_name": "base",
   "language": "python",
   "name": "python3"
  },
  "language_info": {
   "codemirror_mode": {
    "name": "ipython",
    "version": 3
   },
   "file_extension": ".py",
   "mimetype": "text/x-python",
   "name": "python",
   "nbconvert_exporter": "python",
   "pygments_lexer": "ipython3",
   "version": "3.12.7"
  }
 },
 "nbformat": 4,
 "nbformat_minor": 5
}
