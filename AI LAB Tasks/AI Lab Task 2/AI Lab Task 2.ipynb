{
 "cells": [
  {
   "cell_type": "markdown",
   "id": "69956dae",
   "metadata": {},
   "source": [
    "## FIZZ BUZZ"
   ]
  },
  {
   "cell_type": "code",
   "execution_count": null,
   "id": "1e7caf9e",
   "metadata": {},
   "outputs": [
    {
     "name": "stdout",
     "output_type": "stream",
     "text": [
      "Welcome to the Fizz Buzz Game!\n",
      "Correct! You Said: 1\n",
      "Computer: Fizz\n",
      "Correct! You Said: fizz\n",
      "\n",
      "Congratulations 3! The Fizz Buzz Game has ended successfully! You got 2 correct answers.\n",
      "Best luck for next time!\n",
      "\n",
      "Thanks for playing! See you next time\n"
     ]
    }
   ],
   "source": [
    "print(\"Welcome to the Fizz Buzz Game!\")   \n",
    "player_name = input(\"Please enter your name: \")\n",
    "play_again = \"yes\"\n",
    "\n",
    "while play_again.lower() == \"yes\":\n",
    " try:\n",
    "   rounds = int(input(f\"\\n{player_name}, how many rounds do you want to play? \"))\n",
    " except:\n",
    "   print(\"That is not a any number. let's just go with 5.\")\n",
    "   rounds = 5\n",
    "   \n",
    " total = 0\n",
    " right_answers = 0\n",
    " comp_turns = 0 \n",
    "    \n",
    " for n in range(1, rounds + 1):\n",
    "  total += n\n",
    "  if n % 2 != 0:\n",
    "   guess = input(f\"\\nYour turn for {total}: \")\n",
    "   if total % 3== 0 and total % 5 == 0: \n",
    "    correct_ans = \"Fizz Buzz\"\n",
    "   elif total % 3 == 0:\n",
    "    correct_ans = \"Fizz\"\n",
    "   elif total % 5 == 0:\n",
    "    correct_ans = \"Buzz\"\n",
    "   else:\n",
    "    correct_ans = str(total)\n",
    "   if guess.strip().lower() == correct_ans.lower():\n",
    "     print(f\"Correct! You Said: {guess}\")\n",
    "     right_answers += 1\n",
    "     if right_answers % 3 == 0:\n",
    "      print(\"Wow! You play very well!\")  \n",
    "   else:\n",
    "    print(f\"Wrong! The correct answer was: {correct_ans}\")\n",
    "    break  \n",
    "\n",
    "  else:\n",
    "   comp_turns += 1\n",
    "   if (total + comp_turns) % 4 == 1 and total > 10:\n",
    "    print(f\"Computer mistake: {total + 1}\")  \n",
    "    print(\"Computer made a mistake! Game Over.\")\n",
    "    break   \n",
    "   else:\n",
    "    if total % 3 ==0 and total % 5 == 0:\n",
    "      print(\"Computer:\", \"Fizz Buzz\")\n",
    "    elif total % 3 == 0:\n",
    "      print(\"Computer:\", \"Fizz\")\n",
    "    elif total % 5 == 0:\n",
    "      print(\"Computer:\", \"Buzz\")\n",
    "    else:\n",
    "     print(\"Computer:\", total)\n",
    "\n",
    " print(f\"\\nCongratulations {player_name}! The Fizz Buzz Game has ended successfully! You got {right_answers} correct answers.\")\n",
    " if right_answers >= 6:\n",
    "  print(\"You played very well!\")\n",
    " elif right_answers >= 3:\n",
    "  print(\"Nice try, keep practicing!\")   \n",
    " else:\n",
    "  print(\"Best luck for next time!\")  \n",
    " play_again = input(\"\\nDo you want to play again? (yes/no): \")\n",
    "\n",
    "print(\"\\nThanks for playing! See you next time\")\n"
   ]
  },
  {
   "cell_type": "markdown",
   "id": "18fd7af3",
   "metadata": {},
   "source": [
    "# Movie Budget calculation"
   ]
  },
  {
   "cell_type": "code",
   "execution_count": null,
   "id": "e6439cb8",
   "metadata": {},
   "outputs": [
    {
     "name": "stdout",
     "output_type": "stream",
     "text": [
      "The average movie budget is: 202833333.33333334\n",
      "Movies that spent more than the average:\n",
      "- Pirates of the Caribbean: On Stranger Tides spent 176166666.66666666 more than average\n",
      "- Avengers: Age of Ultron spent 162166666.66666666 more than average\n",
      "- Avengers: Endgame spent 153166666.66666666 more than average\n",
      "- abc spent 167166666.66666666 more than average\n",
      "Total movies above average: 4\n",
      "Highest budget movie: Pirates of the Caribbean: On Stranger Tides with 379000000\n",
      "Lowest budget movie: Requiem for a Dream with 4500000\n"
     ]
    }
   ],
   "source": [
    "movie_list = [\n",
    "    (\"Eternal Sunshine of the Spotless Mind\", 20000000),\n",
    "    (\"Memento\", 9000000),\n",
    "    (\"Requiem for a Dream\", 4500000),\n",
    "    (\"Pirates of the Caribbean: On Stranger Tides\", 379000000),\n",
    "    (\"Avengers: Age of Ultron\", 365000000),\n",
    "    (\"Avengers: Endgame\", 356000000),\n",
    "    (\"Incredibles 2\", 200000000)\n",
    "]\n",
    "no\n",
    "user_choice = int(input(\"How many new movies do you want to add? \"))\n",
    "\n",
    "for i in range(user_choice):\n",
    "    m_name = input(f\"Enter name of movie {i+1}: \")\n",
    "    m_cost = int(input(f\"Enter budget of '{m_name}': \"))\n",
    "    movie_list.append((m_name, m_cost))\n",
    "\n",
    "total_cost = 0\n",
    "for m in movie_list:\n",
    "    total_cost += m[1]\n",
    "\n",
    "avg_cost = total_cost / len(movie_list)\n",
    "print(\"The average movie budget is:\", avg_cost)\n",
    "\n",
    "print(\"Movies that spent more than the average:\")\n",
    "above_avr = 0\n",
    "for m in movie_list:\n",
    "    if m[1] > avg_cost:\n",
    "        more_than_avg = m[1] - avg_cost\n",
    "        print(f\"- {m[0]} spent {more_than_avg} more than average\")\n",
    "        above_avr += 1\n",
    "\n",
    "print(\"Total movies above average:\", above_avr)\n",
    "\n",
    "high = movie_list[0]\n",
    "low = movie_list[0]\n",
    "for movie in movie_list:\n",
    "    if movie[1] > high[1]:\n",
    "        high = movie\n",
    "    if movie[1] < low[1]:\n",
    "        low = movie\n",
    "\n",
    "print(\"Highest budget movie:\", high[0], \"with\", high[1])\n",
    "print(\"Lowest budget movie:\", low[0], \"with\", low[1])\n",
    "\n"
   ]
  }
 ],
 "metadata": {
  "kernelspec": {
   "display_name": "base",
   "language": "python",
   "name": "python3"
  },
  "language_info": {
   "codemirror_mode": {
    "name": "ipython",
    "version": 3
   },
   "file_extension": ".py",
   "mimetype": "text/x-python",
   "name": "python",
   "nbconvert_exporter": "python",
   "pygments_lexer": "ipython3",
   "version": "3.12.7"
  }
 },
 "nbformat": 4,
 "nbformat_minor": 5
}
