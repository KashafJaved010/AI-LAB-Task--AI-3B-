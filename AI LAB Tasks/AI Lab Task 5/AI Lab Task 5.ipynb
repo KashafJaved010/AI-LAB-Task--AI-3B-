{
 "cells": [
  {
   "cell_type": "markdown",
   "id": "c443f76b",
   "metadata": {},
   "source": [
    "1. DFS with only Stack "
   ]
  },
  {
   "cell_type": "code",
   "execution_count": 21,
   "id": "f12f58f9",
   "metadata": {},
   "outputs": [
    {
     "name": "stdout",
     "output_type": "stream",
     "text": [
      "DFS using Stack:\n",
      "0 1 3 4 2 "
     ]
    },
    {
     "data": {
      "text/plain": [
       "['0', '1', '3', '4', '2']"
      ]
     },
     "execution_count": 21,
     "metadata": {},
     "output_type": "execute_result"
    }
   ],
   "source": [
    "def dfs_with_stack(graph, starting_point):\n",
    " explore_point = []\n",
    " stack = [starting_point]         \n",
    " while stack:             \n",
    "  point = stack.pop() \n",
    "    \n",
    "  if point not in explore_point:\n",
    "   print(point, end=\" \")      \n",
    "   explore_point.append(point)\n",
    "   neighbors = []\n",
    "   for i in graph[point]:\n",
    "    if i not in explore_point:\n",
    "     neighbors.append(i)\n",
    "   for i in sorted(neighbors, reverse=True):\n",
    "    stack.append(i)\n",
    " return explore_point\n",
    "\n",
    "graph = { \n",
    "    '0': set(['1', '2']), \n",
    "    '1': set(['0', '3', '4']), \n",
    "    '2': set(['0']), \n",
    "    '3': set(['1']),\n",
    "    '4': set(['2', '3']) } \n",
    "\n",
    "print(\"DFS using Stack:\") \n",
    "dfs_with_stack(graph, '0')\n"
   ]
  },
  {
   "cell_type": "markdown",
   "id": "2463583e",
   "metadata": {},
   "source": [
    "1. DFS with Stack & Node"
   ]
  },
  {
   "cell_type": "code",
   "execution_count": null,
   "id": "b30741c3",
   "metadata": {},
   "outputs": [
    {
     "name": "stdout",
     "output_type": "stream",
     "text": [
      "Tree Structure:\n",
      "        A\n",
      "       / \\\n",
      "      B   C\n",
      "     / \\    \\\n",
      "    D   E    F\n",
      "            / \\\n",
      "           V   X\n",
      "\n",
      "DFS traversal using stack inside Node class:\n",
      "A B D E C F V X "
     ]
    }
   ],
   "source": [
    "class Node:\n",
    " stack = []  \n",
    " def __init__(self, element):\n",
    "  self.element = element\n",
    "  self.left = None\n",
    "  self.right = None\n",
    "\n",
    " @classmethod\n",
    " def push(cls, point):\n",
    "  cls.stack.append(point)    \n",
    " @classmethod\n",
    " def pop(cls):\n",
    "  if not cls.is_empty():\n",
    "    return cls.stack.pop()  \n",
    " @classmethod\n",
    " def is_empty(cls):\n",
    "  return len(cls.stack) == 0\n",
    "\n",
    "\n",
    "def dfs_with_stack(starting_point):\n",
    " if not starting_point:\n",
    "  return\n",
    " Node.push(starting_point)      \n",
    "\n",
    " while not Node.is_empty():\n",
    "  current_point = Node.pop()  \n",
    "  print(current_point.element, end=\" \")\n",
    "  \n",
    "  if current_point.right:\n",
    "   Node.push(current_point.right)\n",
    "  if current_point.left:\n",
    "   Node.push(current_point.left)\n",
    "\n",
    " Node.stack = []   \n",
    "\n",
    "\n",
    "def tree_diagram():\n",
    " print(\"        A\")\n",
    " print(\"       / \\\\\")\n",
    " print(\"      B   C\")\n",
    " print(\"     / \\\\    \\\\\")\n",
    " print(\"    D   E    F\")\n",
    " print(\"            / \\\\\")\n",
    " print(\"           V   X\")\n",
    "\n",
    "\n",
    "explored= Node('A')\n",
    "explored.left = Node('B')\n",
    "explored.right = Node('C')\n",
    "explored.left.left = Node('D')\n",
    "explored.left.right = Node('E')\n",
    "explored.right.right = Node('F')\n",
    "explored.right.right.left = Node(\"V\")\n",
    "explored.right.right.right = Node(\"X\")\n",
    "\n",
    "print(\"Tree Structure:\")\n",
    "tree_diagram()\n",
    "print(\"\\nDFS traversal using stack inside Node class:\")\n",
    "dfs_with_stack(explored)\n"
   ]
  },
  {
   "cell_type": "markdown",
   "id": "7a870e95",
   "metadata": {},
   "source": [
    "2. \"Inorder, Preorder, Postorder\"  implement in DFS "
   ]
  },
  {
   "cell_type": "code",
   "execution_count": 36,
   "id": "5b439977",
   "metadata": {},
   "outputs": [
    {
     "name": "stdout",
     "output_type": "stream",
     "text": [
      "Tree Structure:\n",
      "        A\n",
      "       / \\\n",
      "      B   C\n",
      "     / \\    \\\n",
      "    D   E    F\n",
      "            / \\\n",
      "           V   X\n",
      "Preorder Traversal:\n",
      "A B D E C F V X \n",
      "Inorder Traversal:\n",
      "D B E A C V F X \n",
      "Postorder Traversal:\n",
      "D E B V X F C A "
     ]
    }
   ],
   "source": [
    "class Node:\n",
    " def __init__(self, element):\n",
    "  self.element = element\n",
    "  self.left = None\n",
    "  self.right = None\n",
    "\n",
    "def preorder(starting_point):\n",
    " if starting_point:\n",
    "  print(starting_point.element, end=\" \")\n",
    "  preorder(starting_point.left)\n",
    "  preorder(starting_point.right)\n",
    "\n",
    "def inorder(starting_point):\n",
    " if starting_point:\n",
    "  inorder(starting_point.left)\n",
    "  print(starting_point.element, end=\" \")\n",
    "  inorder(starting_point.right)\n",
    "\n",
    "def postorder(starting_point):\n",
    " if starting_point:\n",
    "  postorder(starting_point.left)\n",
    "  postorder(starting_point.right)\n",
    "  print(starting_point.element, end=\" \")\n",
    "\n",
    "\n",
    "def tree_diagram():\n",
    " print(\"        A\")\n",
    " print(\"       / \\\\\")\n",
    " print(\"      B   C\")\n",
    " print(\"     / \\\\    \\\\\")\n",
    " print(\"    D   E    F\")\n",
    " print(\"            / \\\\\")\n",
    " print(\"           V   X\")\n",
    "\n",
    "\n",
    "explored = Node('A')\n",
    "explored.left = Node('B')\n",
    "explored.right = Node('C')\n",
    "explored.left.left = Node('D')\n",
    "explored.left.right = Node('E')\n",
    "explored.right.right = Node('F')\n",
    "explored.right.right.left = Node(\"V\")\n",
    "explored.right.right.right = Node(\"X\")\n",
    "\n",
    "print(\"Tree Structure:\")\n",
    "tree_diagram()\n",
    "\n",
    "print(\"Preorder Traversal:\")\n",
    "preorder(explored)\n",
    "\n",
    "print(\"\\nInorder Traversal:\")\n",
    "inorder(explored)\n",
    "\n",
    "print(\"\\nPostorder Traversal:\")\n",
    "postorder(explored)\n"
   ]
  }
 ],
 "metadata": {
  "kernelspec": {
   "display_name": "base",
   "language": "python",
   "name": "python3"
  },
  "language_info": {
   "codemirror_mode": {
    "name": "ipython",
    "version": 3
   },
   "file_extension": ".py",
   "mimetype": "text/x-python",
   "name": "python",
   "nbconvert_exporter": "python",
   "pygments_lexer": "ipython3",
   "version": "3.12.7"
  }
 },
 "nbformat": 4,
 "nbformat_minor": 5
}
